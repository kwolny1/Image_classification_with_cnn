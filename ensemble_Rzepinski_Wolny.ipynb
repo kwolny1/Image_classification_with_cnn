{
 "cells": [
  {
   "cell_type": "code",
   "execution_count": 3,
   "metadata": {},
   "outputs": [],
   "source": [
    "# ========== IMPORTS ==========\n",
    "import os\n",
    "import numpy as np\n",
    "import pandas as pd\n",
    "import matplotlib.pyplot as plt\n",
    "import seaborn as sns\n",
    "import tensorflow as tf\n",
    "# from google.colab import files\n",
    "from tensorflow.keras import Model, Input\n",
    "from tensorflow.keras.applications import ResNet50, EfficientNetV2B0, ConvNeXtTiny\n",
    "from tensorflow.keras.applications.resnet50 import preprocess_input as resnet_preprocess\n",
    "from tensorflow.keras.applications.efficientnet_v2 import preprocess_input as efficientnet_preprocess\n",
    "from tensorflow.keras.applications.convnext import preprocess_input as convnext_preprocess\n",
    "from tensorflow.keras.preprocessing import image_dataset_from_directory\n",
    "from tensorflow.keras.layers import Dense, GlobalAveragePooling2D, Dropout, RandomZoom, RandomContrast, RandomRotation, Lambda\n",
    "from tensorflow.keras.regularizers import l1\n",
    "from sklearn.metrics import accuracy_score\n",
    "from sklearn.linear_model import LogisticRegression\n",
    "from tensorflow.keras.models import load_model\n",
    "import shutil"
   ]
  },
  {
   "cell_type": "code",
   "execution_count": 1,
   "metadata": {},
   "outputs": [],
   "source": [
    "best_convnext_path = \"./results_AUG_30/ConvNeXtTiny_lr0.0005_bs128_do0.5_l10.0_augcontrast_fsfull.keras\"\n",
    "best_resnet_path = \"./results_LR/ResNet50_lr0.0003_bs128_do0.5_l10.0_augnone_fsfull.keras\"\n",
    "best_efficientnet_path = \"./results_LR/EfficientNetV2B0_lr0.0005_bs128_do0.5_l10.0_augnone_fsfull.keras\""
   ]
  },
  {
   "cell_type": "code",
   "execution_count": 4,
   "metadata": {},
   "outputs": [],
   "source": [
    "# ========== CONFIG ==========\n",
    "EPOCHS = 10\n",
    "IMAGE_SIZE = (32, 32)\n",
    "NUM_CLASSES = 10\n",
    "LEARNING_RATES = [5e-4] #5e-4 - 1e-4, 3e-4, 1e-3\n",
    "BATCH_SIZES = [128] #128 - 32 ,64, 128\n",
    "DROPOUT_RATES = [0.5] #0.5 - 0.3, 0.5, 0.7\n",
    "L1_REGS = [0.0] #0.0 - 0.0, 1e-5, 1e-4\n",
    "AUGMENT_TYPES = ['none'] #'none' - 'none', 'rotation', 'contrast', 'zoom', 'cutmix'\n",
    "FEW_SHOT_ENABLED = False\n",
    "FEW_SHOT_SAMPLES_PER_CLASS = [10, 50, 200]\n",
    "\n",
    "DATASET_PATH = \"./content/cinic10\"\n",
    "TRAIN_DIR = DATASET_PATH + \"/train\"\n",
    "VALID_DIR = DATASET_PATH + \"/valid\"\n",
    "TEST_DIR = DATASET_PATH + \"/test\"\n",
    "RESULTS_DIR = \"./content/results\"\n",
    "os.makedirs(RESULTS_DIR, exist_ok=True)"
   ]
  },
  {
   "cell_type": "code",
   "execution_count": null,
   "metadata": {},
   "outputs": [],
   "source": [
    "# convnext_custom_objects = {\"preprocess_input\": convnext_preprocess}\n",
    "# efficientnet_custom_objects = {\"preprocess_input\": efficientnet_preprocess}\n",
    "# resnet_custom_objects = {\"preprocess_input\": resnet_preprocess}\n",
    "\n",
    "# model1 = load_model(\"./results_L1/ConvNeXtTiny_lr0.0005_bs128_do0.5_l10.0_augnone_fsfull.keras\", custom_objects=convnext_custom_objects)\n",
    "# model2 = load_model(\"./results_L1/ResNet50_lr0.0005_bs128_do0.5_l10.0001_augnone_fsfull.keras\", custom_objects=resnet_custom_objects)\n",
    "# model3 = load_model(\"./results_L1/ConvNeXtTiny_lr0.0005_bs128_do0.5_l11e-05_augnone_fsfull.keras\", custom_objects=convnext_custom_objects)\n",
    "\n",
    "# trained_models = [model1, model2, model3]\n"
   ]
  },
  {
   "cell_type": "code",
   "execution_count": null,
   "metadata": {},
   "outputs": [
    {
     "name": "stdout",
     "output_type": "stream",
     "text": [
      "WARNING:tensorflow:From c:\\Users\\admin\\AppData\\Local\\Programs\\Python\\Python311\\Lib\\site-packages\\keras\\src\\backend\\tensorflow\\core.py:216: The name tf.placeholder is deprecated. Please use tf.compat.v1.placeholder instead.\n",
      "\n"
     ]
    }
   ],
   "source": [
    "convnext_custom_objects = {\"preprocess_input\": convnext_preprocess}\n",
    "efficientnet_custom_objects = {\"preprocess_input\": efficientnet_preprocess}\n",
    "resnet_custom_objects = {\"preprocess_input\": resnet_preprocess}\n",
    "\n",
    "model1 = load_model(best_convnext_path, custom_objects=convnext_custom_objects)\n",
    "model2 = load_model(best_resnet_path, custom_objects=resnet_custom_objects)\n",
    "model3 = load_model(best_efficientnet_path, custom_objects=convnext_custom_objects)\n",
    "\n",
    "trained_models = [model1, model2, model3]\n"
   ]
  },
  {
   "cell_type": "code",
   "execution_count": 7,
   "metadata": {},
   "outputs": [
    {
     "name": "stdout",
     "output_type": "stream",
     "text": [
      "Found 90000 files belonging to 10 classes.\n"
     ]
    }
   ],
   "source": [
    "from scipy.stats import mode\n",
    "test_ds = image_dataset_from_directory(TEST_DIR, image_size=IMAGE_SIZE, batch_size=64, label_mode='categorical', shuffle=False, seed=123)\n",
    "X_test, y_true = [], []\n",
    "for images, labels in test_ds:\n",
    "    X_test.append(images)\n",
    "    y_true.append(labels)\n",
    "X_test = tf.concat(X_test, axis=0)\n",
    "y_true = tf.concat(y_true, axis=0)\n",
    "y_true_labels = tf.argmax(y_true, axis=1).numpy()\n",
    "\n"
   ]
  },
  {
   "cell_type": "code",
   "execution_count": null,
   "metadata": {},
   "outputs": [
    {
     "name": "stdout",
     "output_type": "stream",
     "text": [
      "Hard Voting Accuracy: 63.23%\n",
      "Soft Voting Accuracy: 67.30%\n",
      "Stacking Accuracy: 67.85%\n"
     ]
    },
    {
     "data": {
      "image/png": "[encoded data removed]",
      "text/plain": [
       "<Figure size 800x500 with 1 Axes>"
      ]
     },
     "metadata": {},
     "output_type": "display_data"
    }
   ],
   "source": [
    "# ========== ENSEMBLING ==========\n",
    "predictions = np.array([model.predict(X_test) for model in trained_models])\n",
    "\n",
    "hard_voting_preds = mode(np.argmax(predictions, axis=2), axis=0)[0].flatten()\n",
    "soft_voting_preds = np.argmax(np.mean(predictions, axis=0), axis=1)\n",
    "\n",
    "# Stack Voting (Meta-Learner using Logistic Regression)\n",
    "stacked_features = np.hstack([pred.reshape(pred.shape[0], -1) for pred in predictions])\n",
    "\n",
    "meta_learner = LogisticRegression(max_iter=1000, multi_class='multinomial')\n",
    "meta_learner.fit(stacked_features, y_true_labels)\n",
    "stack_voting_preds = meta_learner.predict(stacked_features)\n",
    "\n",
    "hard_voting_acc = accuracy_score(y_true_labels, hard_voting_preds)\n",
    "soft_voting_acc = accuracy_score(y_true_labels, soft_voting_preds)\n",
    "stack_voting_acc = accuracy_score(y_true_labels, stack_voting_preds)\n",
    "\n",
    "print(f\"Hard Voting Accuracy: {hard_voting_acc * 100:.2f}%\")\n",
    "print(f\"Soft Voting Accuracy: {soft_voting_acc * 100:.2f}%\")\n",
    "print(f\"Stacking Accuracy: {stack_voting_acc * 100:.2f}%\")\n",
    "\n",
    "ensemble_df = pd.DataFrame({\n",
    "    'method': ['Soft Voting', 'Hard Voting', 'Stacking'],\n",
    "    'val_accuracy': [soft_voting_acc, hard_voting_acc, stack_voting_acc]\n",
    "})\n",
    "\n",
    "plt.figure(figsize=(8, 5))\n",
    "sns.barplot(data=ensemble_df, x='method', y='val_accuracy')\n",
    "plt.ylabel(\"Test accuracy\")\n",
    "plt.xlabel(\"Ensemble method\")\n",
    "plt.title(\"Test Accuracy for Ensemble Methods\")\n",
    "plt.grid()\n",
    "plt.tight_layout()\n",
    "plt.savefig(f\"{RESULTS_DIR}/final_plot_ensembles.png\")\n",
    "plt.show()\n",
    "\n",
    "ensemble_df.to_csv(os.path.join(RESULTS_DIR, \"ensemble_results.csv\"), index=False)"
   ]
  },
  {
   "cell_type": "code",
   "execution_count": null,
   "metadata": {},
   "outputs": [],
   "source": []
  }
 ],
 "metadata": {
  "kernelspec": {
   "display_name": "Python 3",
   "language": "python",
   "name": "python3"
  },
  "language_info": {
   "codemirror_mode": {
    "name": "ipython",
    "version": 3
   },
   "file_extension": ".py",
   "mimetype": "text/x-python",
   "name": "python",
   "nbconvert_exporter": "python",
   "pygments_lexer": "ipython3",
   "version": "3.11.6"
  }
 },
 "nbformat": 4,
 "nbformat_minor": 2
}
